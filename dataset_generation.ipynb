{
 "cells": [
  {
   "cell_type": "code",
   "execution_count": 17,
   "metadata": {},
   "outputs": [],
   "source": [
    "import os\n",
    "\n",
    "import pandas as pd\n",
    "from tqdm.notebook import tqdm\n",
    "import multiprocess\n",
    "\n",
    "from datasets import load_dataset"
   ]
  },
  {
   "cell_type": "code",
   "execution_count": null,
   "metadata": {},
   "outputs": [],
   "source": [
    "dataset = load_dataset(\"vikp/python_functions_filtered\")"
   ]
  },
  {
   "cell_type": "code",
   "execution_count": null,
   "metadata": {},
   "outputs": [],
   "source": [
    "df = pd.DataFrame(dataset[\"train\"])\n",
    "df = df.sort_values(by=\"quality_prob\", ascending=False).reset_index(drop=True)\n",
    "df"
   ]
  },
  {
   "cell_type": "code",
   "execution_count": null,
   "metadata": {},
   "outputs": [],
   "source": [
    "df.code = df.code.str.replace(\n",
    "    r\"(\\'\\'\\'[\\s\\S]*?\\'\\'\\'|\\\"\\\"\\\"[\\s\\S]*?\\\"\\\"\\\")\", \"\", regex=True\n",
    ")\n",
    "df"
   ]
  },
  {
   "cell_type": "code",
   "execution_count": null,
   "metadata": {},
   "outputs": [],
   "source": [
    "def create_tests(code):\n",
    "    try:\n",
    "        prompt = \"\"\"You are a useful code assistant. A user will give you a code representing a python file. \n",
    "Your task is to take said code and generate a complete working testing file using Pytest. \n",
    "You may assume the original code can be found in a `source.py` file residing in the same directory as the test file, you must import it as such.\n",
    "You *MUST* always provide the full test code with no other explanations.\n",
    "You *MUST* use only one assertion per test. Always aim for full code coverage. \n",
    "\"\"\"\n",
    "        from adjustment_utils import modify_pytest_code, run_pytest\n",
    "        from agent import CodeAgent\n",
    "\n",
    "        model = CodeAgent(prompt)\n",
    "\n",
    "        results = model.generate_response(code, n=3)\n",
    "        test_results = []\n",
    "        for result in results:\n",
    "            try:\n",
    "                res = run_pytest(code, result)\n",
    "                if not len(res[\"stderr\"]):\n",
    "                    if (res[\"failed_assertions\"] == 0) and (res[\"coverage\"] > 90):\n",
    "                        return (code, result)\n",
    "                    res[\"pytest_code\"] = result\n",
    "                    test_results.append(res)\n",
    "            except Exception as e:\n",
    "                continue\n",
    "\n",
    "        try:\n",
    "            test_results = sorted(\n",
    "                test_results, key=lambda x: x[\"coverage\"], reverse=True\n",
    "            )\n",
    "\n",
    "            pytest_code = \"\"\n",
    "            adjusted_results = []\n",
    "            for test_result in test_results:\n",
    "                try:\n",
    "                    adjusted = modify_pytest_code(code, test_result[\"pytest_code\"])\n",
    "\n",
    "                    res = run_pytest(code, adjusted)\n",
    "                    res[\"pytest_code\"] = result\n",
    "\n",
    "                    if (not len(res[\"stderr\"])) and (res[\"failed_assertions\"] == 0):\n",
    "                        if res[\"coverage\"] > 95:\n",
    "                            return (code, adjusted)\n",
    "                        adjusted_results.append(res)\n",
    "                except Exception as e:\n",
    "                    continue\n",
    "\n",
    "            pytest_code = max(adjusted_results, key=lambda x: x[\"coverage\"])[\n",
    "                \"pytest_code\"\n",
    "            ]\n",
    "            return (code, pytest_code)\n",
    "        except:\n",
    "            return None\n",
    "\n",
    "    except:\n",
    "        return None"
   ]
  },
  {
   "cell_type": "code",
   "execution_count": null,
   "metadata": {},
   "outputs": [],
   "source": [
    "step_size = 1000\n",
    "\n",
    "for j in range(50_000, 59_000, step_size):\n",
    "    input_code = df.code[j : j + step_size]\n",
    "    num_tasks = len(input_code)\n",
    "\n",
    "    with multiprocess.Pool(24) as pool:\n",
    "        results = list(tqdm(pool.imap(create_tests, input_code), total=num_tasks))\n",
    "\n",
    "    results = [result for result in results if result is not None]\n",
    "    df_results = pd.DataFrame(results)\n",
    "    df_results.columns = [\"original_code\", \"pytest_code\"]\n",
    "    df_results = df_results.dropna().reset_index(drop=True)\n",
    "    # df_results[\"coverage\"] = df_results.apply(lambda x: run_pytest(x.iloc[0], x.iloc[1])[\"coverage\"], axis=1)\n",
    "\n",
    "    def get_cov(row):\n",
    "        if row is None:\n",
    "            return (None, None, None)\n",
    "\n",
    "        code, pytest_code = row\n",
    "\n",
    "        if (code is None) or (pytest_code is None):\n",
    "            return (None, None, None)\n",
    "\n",
    "        from adjustment_utils import run_pytest\n",
    "\n",
    "        coverage = run_pytest(code, pytest_code, random_subdir=True)[\"coverage\"]\n",
    "        return (code, pytest_code, coverage)\n",
    "\n",
    "    num_tasks = len(results)\n",
    "\n",
    "    with multiprocess.Pool(24) as pool:\n",
    "        results_cov = list(tqdm(pool.imap(get_cov, results), total=num_tasks))\n",
    "\n",
    "    df_cov = pd.DataFrame(results_cov).dropna()\n",
    "    df_cov.columns = [\"original_code\", \"pytest_code\", \"coverage\"]\n",
    "    df_cov = df_cov.sort_values(by=\"coverage\", ascending=False).reset_index(drop=True)\n",
    "    df_cov.to_csv(f\"{j}_{j + step_size}_dataset_results.csv\", index=False)\n",
    "\n",
    "    print(\n",
    "        f\"Saved {j}_{j + step_size}_dataset_results.csv with {df_cov[df_cov.coverage > 99].shape[0]} 100% coverage tests\"\n",
    "    )"
   ]
  },
  {
   "cell_type": "code",
   "execution_count": null,
   "metadata": {},
   "outputs": [],
   "source": []
  }
 ],
 "metadata": {
  "kernelspec": {
   "display_name": "base",
   "language": "python",
   "name": "python3"
  },
  "language_info": {
   "codemirror_mode": {
    "name": "ipython",
    "version": 3
   },
   "file_extension": ".py",
   "mimetype": "text/x-python",
   "name": "python",
   "nbconvert_exporter": "python",
   "pygments_lexer": "ipython3",
   "version": "3.11.5"
  }
 },
 "nbformat": 4,
 "nbformat_minor": 2
}
