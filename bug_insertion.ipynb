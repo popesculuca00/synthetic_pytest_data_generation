{
 "cells": [
  {
   "cell_type": "code",
   "execution_count": 1,
   "metadata": {},
   "outputs": [],
   "source": [
    "import os\n",
    "import pickle\n",
    "\n",
    "import pandas as pd\n",
    "from tqdm.notebook import tqdm\n",
    "import multiprocess\n",
    "\n",
    "from agent import CodeAgent"
   ]
  },
  {
   "cell_type": "code",
   "execution_count": 2,
   "metadata": {},
   "outputs": [
    {
     "data": {
      "text/html": [
       "<div>\n",
       "<style scoped>\n",
       "    .dataframe tbody tr th:only-of-type {\n",
       "        vertical-align: middle;\n",
       "    }\n",
       "\n",
       "    .dataframe tbody tr th {\n",
       "        vertical-align: top;\n",
       "    }\n",
       "\n",
       "    .dataframe thead th {\n",
       "        text-align: right;\n",
       "    }\n",
       "</style>\n",
       "<table border=\"1\" class=\"dataframe\">\n",
       "  <thead>\n",
       "    <tr style=\"text-align: right;\">\n",
       "      <th></th>\n",
       "      <th>original_code</th>\n",
       "      <th>pytest_code</th>\n",
       "      <th>coverage</th>\n",
       "      <th>sample_type</th>\n",
       "      <th>initial_test_case</th>\n",
       "      <th>initial_output</th>\n",
       "    </tr>\n",
       "  </thead>\n",
       "  <tbody>\n",
       "    <tr>\n",
       "      <th>0</th>\n",
       "      <td>def quaternion_multiply(r, q):\\r\\n    \\r\\n    ...</td>\n",
       "      <td># test_source.py\\r\\nimport pytest\\r\\nimport so...</td>\n",
       "      <td>100.0</td>\n",
       "      <td>1</td>\n",
       "      <td>None</td>\n",
       "      <td>None</td>\n",
       "    </tr>\n",
       "    <tr>\n",
       "      <th>1</th>\n",
       "      <td>def sing_three(mu, c, i0=1.0):\\r\\n    \\r\\n    ...</td>\n",
       "      <td>import pytest\\r\\nfrom source import sing_three...</td>\n",
       "      <td>100.0</td>\n",
       "      <td>1</td>\n",
       "      <td>None</td>\n",
       "      <td>None</td>\n",
       "    </tr>\n",
       "    <tr>\n",
       "      <th>2</th>\n",
       "      <td>def get_rgb_from_int(rgb_int):\\r\\n    \\r\\n    ...</td>\n",
       "      <td>import pytest\\r\\nimport sys\\r\\nsys.path.insert...</td>\n",
       "      <td>100.0</td>\n",
       "      <td>1</td>\n",
       "      <td>None</td>\n",
       "      <td>None</td>\n",
       "    </tr>\n",
       "    <tr>\n",
       "      <th>3</th>\n",
       "      <td>def inflate(tensor, times, dim):\\r\\n    \\r\\n  ...</td>\n",
       "      <td># test_source.py\\r\\nimport pytest\\r\\nfrom sour...</td>\n",
       "      <td>100.0</td>\n",
       "      <td>1</td>\n",
       "      <td>None</td>\n",
       "      <td>None</td>\n",
       "    </tr>\n",
       "    <tr>\n",
       "      <th>4</th>\n",
       "      <td>def radii(mag):\\r\\n    \\r\\n    # ADM mask all ...</td>\n",
       "      <td># test_source.py\\r\\nimport pytest\\r\\nimport sy...</td>\n",
       "      <td>100.0</td>\n",
       "      <td>1</td>\n",
       "      <td>None</td>\n",
       "      <td>None</td>\n",
       "    </tr>\n",
       "    <tr>\n",
       "      <th>...</th>\n",
       "      <td>...</td>\n",
       "      <td>...</td>\n",
       "      <td>...</td>\n",
       "      <td>...</td>\n",
       "      <td>...</td>\n",
       "      <td>...</td>\n",
       "    </tr>\n",
       "    <tr>\n",
       "      <th>51770</th>\n",
       "      <td>\\nimport math\\n\\ndef calculate_hypotenuse(a, b...</td>\n",
       "      <td>import pytest\\nfrom source import calculate_hy...</td>\n",
       "      <td>100.0</td>\n",
       "      <td>1</td>\n",
       "      <td>None</td>\n",
       "      <td>None</td>\n",
       "    </tr>\n",
       "    <tr>\n",
       "      <th>51771</th>\n",
       "      <td>import math\\ndef getSum ( a , n ) :\\n    sum =...</td>\n",
       "      <td>import pytest\\nfrom source import *\\n\\ndef tes...</td>\n",
       "      <td>100.0</td>\n",
       "      <td>1</td>\n",
       "      <td>None</td>\n",
       "      <td>None</td>\n",
       "    </tr>\n",
       "    <tr>\n",
       "      <th>51772</th>\n",
       "      <td>def digitWell ( n , m , k ) :\\n    cnt = 0\\n  ...</td>\n",
       "      <td>import pytest\\nfrom source import digitWell, f...</td>\n",
       "      <td>100.0</td>\n",
       "      <td>1</td>\n",
       "      <td>None</td>\n",
       "      <td>None</td>\n",
       "    </tr>\n",
       "    <tr>\n",
       "      <th>51773</th>\n",
       "      <td>\\ndef find_missing_number(numbers):\\n    \"\"\"\\n...</td>\n",
       "      <td>import pytest\\nfrom source import find_missing...</td>\n",
       "      <td>100.0</td>\n",
       "      <td>1</td>\n",
       "      <td>None</td>\n",
       "      <td>None</td>\n",
       "    </tr>\n",
       "    <tr>\n",
       "      <th>51774</th>\n",
       "      <td>\\ndef concatenate_string_with_reversed_string(...</td>\n",
       "      <td>from pytest import *\\nimport source\\n\\ndef tes...</td>\n",
       "      <td>100.0</td>\n",
       "      <td>1</td>\n",
       "      <td>None</td>\n",
       "      <td>None</td>\n",
       "    </tr>\n",
       "  </tbody>\n",
       "</table>\n",
       "<p>51775 rows × 6 columns</p>\n",
       "</div>"
      ],
      "text/plain": [
       "                                           original_code  \\\n",
       "0      def quaternion_multiply(r, q):\\r\\n    \\r\\n    ...   \n",
       "1      def sing_three(mu, c, i0=1.0):\\r\\n    \\r\\n    ...   \n",
       "2      def get_rgb_from_int(rgb_int):\\r\\n    \\r\\n    ...   \n",
       "3      def inflate(tensor, times, dim):\\r\\n    \\r\\n  ...   \n",
       "4      def radii(mag):\\r\\n    \\r\\n    # ADM mask all ...   \n",
       "...                                                  ...   \n",
       "51770  \\nimport math\\n\\ndef calculate_hypotenuse(a, b...   \n",
       "51771  import math\\ndef getSum ( a , n ) :\\n    sum =...   \n",
       "51772  def digitWell ( n , m , k ) :\\n    cnt = 0\\n  ...   \n",
       "51773  \\ndef find_missing_number(numbers):\\n    \"\"\"\\n...   \n",
       "51774  \\ndef concatenate_string_with_reversed_string(...   \n",
       "\n",
       "                                             pytest_code  coverage  \\\n",
       "0      # test_source.py\\r\\nimport pytest\\r\\nimport so...     100.0   \n",
       "1      import pytest\\r\\nfrom source import sing_three...     100.0   \n",
       "2      import pytest\\r\\nimport sys\\r\\nsys.path.insert...     100.0   \n",
       "3      # test_source.py\\r\\nimport pytest\\r\\nfrom sour...     100.0   \n",
       "4      # test_source.py\\r\\nimport pytest\\r\\nimport sy...     100.0   \n",
       "...                                                  ...       ...   \n",
       "51770  import pytest\\nfrom source import calculate_hy...     100.0   \n",
       "51771  import pytest\\nfrom source import *\\n\\ndef tes...     100.0   \n",
       "51772  import pytest\\nfrom source import digitWell, f...     100.0   \n",
       "51773  import pytest\\nfrom source import find_missing...     100.0   \n",
       "51774  from pytest import *\\nimport source\\n\\ndef tes...     100.0   \n",
       "\n",
       "      sample_type initial_test_case initial_output  \n",
       "0               1              None           None  \n",
       "1               1              None           None  \n",
       "2               1              None           None  \n",
       "3               1              None           None  \n",
       "4               1              None           None  \n",
       "...           ...               ...            ...  \n",
       "51770           1              None           None  \n",
       "51771           1              None           None  \n",
       "51772           1              None           None  \n",
       "51773           1              None           None  \n",
       "51774           1              None           None  \n",
       "\n",
       "[51775 rows x 6 columns]"
      ]
     },
     "execution_count": 2,
     "metadata": {},
     "output_type": "execute_result"
    }
   ],
   "source": [
    "df = pd.concat(\n",
    "        [pd.read_csv(f\"generated/{file}\") for file in os.listdir(\"generated\") if file not in [\"incomplete_samples.csv\"]]\n",
    "    ).reset_index(drop=True)\n",
    "\n",
    "df[\"sample_type\"] = None\n",
    "df[\"initial_test_case\"] = None\n",
    "df[\"initial_output\"] = None\n",
    "\n",
    "df.loc[df[\"coverage\"] > 99, \"sample_type\"] = 1\n",
    "\n",
    "df = df[df.sample_type == 1].reset_index(drop=True)\n",
    "df"
   ]
  },
  {
   "cell_type": "code",
   "execution_count": 3,
   "metadata": {},
   "outputs": [],
   "source": [
    "def generate_incorrect_case(df):\n",
    "\n",
    "    try:\n",
    "        from agent import CodeAgent\n",
    "        from adjustment_utils import run_pytest\n",
    "        code, pytest_code, *rest = df\n",
    "        sys_prompt = \"\"\"You are a spechless coding assistant that helps the user generate training data.\n",
    "        You will receive code representing a pytest file and you will introduce a small bug that can either:\n",
    "            - make the code throw an error at runtime.\n",
    "            - reduce the total code coverage.\n",
    "        You can implement both points for any given sample.\n",
    "        You **MUST*** return the full generated file.  \n",
    "        \"\"\"\n",
    "        model = CodeAgent(sys_prompt)\n",
    "        incomplete_code = model.generate_response(pytest_code, n=1)[0]\n",
    "\n",
    "        res = run_pytest(code, incomplete_code)\n",
    "\n",
    "        if (not res[\"failed_assertions\"]) and\\\n",
    "                (res[\"stderr\"] == \"\") and\\\n",
    "                (res[\"coverage\"] > 99):\n",
    "            return [None] * 6\n",
    "\n",
    "        return (code, pytest_code, res[\"coverage\"], 3, incomplete_code, f\"{res['stdout']}\\n{res['stderr']}\")\n",
    "    except:\n",
    "        return [None] * 6"
   ]
  },
  {
   "cell_type": "code",
   "execution_count": 4,
   "metadata": {},
   "outputs": [
    {
     "data": {
      "application/vnd.jupyter.widget-view+json": {
       "model_id": "f85850ba403c484d8d5510abcd1a8fd6",
       "version_major": 2,
       "version_minor": 0
      },
      "text/plain": [
       "  0%|          | 0/1000 [00:00<?, ?it/s]"
      ]
     },
     "metadata": {},
     "output_type": "display_data"
    },
    {
     "data": {
      "application/vnd.jupyter.widget-view+json": {
       "model_id": "8fe37778591042cc870b752cbc4fa153",
       "version_major": 2,
       "version_minor": 0
      },
      "text/plain": [
       "  0%|          | 0/1000 [00:00<?, ?it/s]"
      ]
     },
     "metadata": {},
     "output_type": "display_data"
    },
    {
     "data": {
      "application/vnd.jupyter.widget-view+json": {
       "model_id": "076c782d463b44448831f03a0ae9be79",
       "version_major": 2,
       "version_minor": 0
      },
      "text/plain": [
       "  0%|          | 0/1000 [00:00<?, ?it/s]"
      ]
     },
     "metadata": {},
     "output_type": "display_data"
    },
    {
     "data": {
      "application/vnd.jupyter.widget-view+json": {
       "model_id": "fd8ee9132d1c4f528dfb621d043ee9e1",
       "version_major": 2,
       "version_minor": 0
      },
      "text/plain": [
       "  0%|          | 0/1000 [00:00<?, ?it/s]"
      ]
     },
     "metadata": {},
     "output_type": "display_data"
    },
    {
     "data": {
      "application/vnd.jupyter.widget-view+json": {
       "model_id": "e86bb4bd615a4153a4b7209113b04b54",
       "version_major": 2,
       "version_minor": 0
      },
      "text/plain": [
       "  0%|          | 0/1000 [00:00<?, ?it/s]"
      ]
     },
     "metadata": {},
     "output_type": "display_data"
    },
    {
     "data": {
      "application/vnd.jupyter.widget-view+json": {
       "model_id": "0f6061b4c3fd4ef1a6d0cd6f888b1fcf",
       "version_major": 2,
       "version_minor": 0
      },
      "text/plain": [
       "  0%|          | 0/1000 [00:00<?, ?it/s]"
      ]
     },
     "metadata": {},
     "output_type": "display_data"
    },
    {
     "data": {
      "application/vnd.jupyter.widget-view+json": {
       "model_id": "bc2005ccfc6b477193639606b25042bb",
       "version_major": 2,
       "version_minor": 0
      },
      "text/plain": [
       "  0%|          | 0/1000 [00:00<?, ?it/s]"
      ]
     },
     "metadata": {},
     "output_type": "display_data"
    },
    {
     "data": {
      "application/vnd.jupyter.widget-view+json": {
       "model_id": "276f8c9c211b48a09aa78a4545319398",
       "version_major": 2,
       "version_minor": 0
      },
      "text/plain": [
       "  0%|          | 0/1000 [00:00<?, ?it/s]"
      ]
     },
     "metadata": {},
     "output_type": "display_data"
    },
    {
     "ename": "KeyboardInterrupt",
     "evalue": "",
     "output_type": "error",
     "traceback": [
      "\u001b[1;31m---------------------------------------------------------------------------\u001b[0m",
      "\u001b[1;31mIndexError\u001b[0m                                Traceback (most recent call last)",
      "File \u001b[1;32mc:\\ProgramData\\anaconda3\\Lib\\site-packages\\multiprocess\\pool.py:856\u001b[0m, in \u001b[0;36mIMapIterator.next\u001b[1;34m(self, timeout)\u001b[0m\n\u001b[0;32m    855\u001b[0m \u001b[38;5;28;01mtry\u001b[39;00m:\n\u001b[1;32m--> 856\u001b[0m     item \u001b[38;5;241m=\u001b[39m \u001b[38;5;28mself\u001b[39m\u001b[38;5;241m.\u001b[39m_items\u001b[38;5;241m.\u001b[39mpopleft()\n\u001b[0;32m    857\u001b[0m \u001b[38;5;28;01mexcept\u001b[39;00m \u001b[38;5;167;01mIndexError\u001b[39;00m:\n",
      "\u001b[1;31mIndexError\u001b[0m: pop from an empty deque",
      "\nDuring handling of the above exception, another exception occurred:\n",
      "\u001b[1;31mKeyboardInterrupt\u001b[0m                         Traceback (most recent call last)",
      "Cell \u001b[1;32mIn[4], line 8\u001b[0m\n\u001b[0;32m      6\u001b[0m num_tasks \u001b[38;5;241m=\u001b[39m \u001b[38;5;28mlen\u001b[39m(cnt_df)\n\u001b[0;32m      7\u001b[0m \u001b[38;5;28;01mwith\u001b[39;00m multiprocess\u001b[38;5;241m.\u001b[39mPool(\u001b[38;5;241m36\u001b[39m) \u001b[38;5;28;01mas\u001b[39;00m pool:\n\u001b[1;32m----> 8\u001b[0m     results \u001b[38;5;241m=\u001b[39m \u001b[38;5;28mlist\u001b[39m(tqdm(pool\u001b[38;5;241m.\u001b[39mimap(generate_incorrect_case, cnt_df), total\u001b[38;5;241m=\u001b[39mnum_tasks))\n\u001b[0;32m      9\u001b[0m res \u001b[38;5;241m=\u001b[39m pd\u001b[38;5;241m.\u001b[39mDataFrame(results)\n\u001b[0;32m     10\u001b[0m res\u001b[38;5;241m.\u001b[39mcolumns \u001b[38;5;241m=\u001b[39m df\u001b[38;5;241m.\u001b[39mcolumns\n",
      "File \u001b[1;32m~\\AppData\\Roaming\\Python\\Python311\\site-packages\\tqdm\\notebook.py:249\u001b[0m, in \u001b[0;36mtqdm_notebook.__iter__\u001b[1;34m(self)\u001b[0m\n\u001b[0;32m    247\u001b[0m \u001b[38;5;28;01mtry\u001b[39;00m:\n\u001b[0;32m    248\u001b[0m     it \u001b[38;5;241m=\u001b[39m \u001b[38;5;28msuper\u001b[39m(tqdm_notebook, \u001b[38;5;28mself\u001b[39m)\u001b[38;5;241m.\u001b[39m\u001b[38;5;21m__iter__\u001b[39m()\n\u001b[1;32m--> 249\u001b[0m     \u001b[38;5;28;01mfor\u001b[39;00m obj \u001b[38;5;129;01min\u001b[39;00m it:\n\u001b[0;32m    250\u001b[0m         \u001b[38;5;66;03m# return super(tqdm...) will not catch exception\u001b[39;00m\n\u001b[0;32m    251\u001b[0m         \u001b[38;5;28;01myield\u001b[39;00m obj\n\u001b[0;32m    252\u001b[0m \u001b[38;5;66;03m# NB: except ... [ as ...] breaks IPython async KeyboardInterrupt\u001b[39;00m\n",
      "File \u001b[1;32m~\\AppData\\Roaming\\Python\\Python311\\site-packages\\tqdm\\std.py:1182\u001b[0m, in \u001b[0;36mtqdm.__iter__\u001b[1;34m(self)\u001b[0m\n\u001b[0;32m   1179\u001b[0m time \u001b[38;5;241m=\u001b[39m \u001b[38;5;28mself\u001b[39m\u001b[38;5;241m.\u001b[39m_time\n\u001b[0;32m   1181\u001b[0m \u001b[38;5;28;01mtry\u001b[39;00m:\n\u001b[1;32m-> 1182\u001b[0m     \u001b[38;5;28;01mfor\u001b[39;00m obj \u001b[38;5;129;01min\u001b[39;00m iterable:\n\u001b[0;32m   1183\u001b[0m         \u001b[38;5;28;01myield\u001b[39;00m obj\n\u001b[0;32m   1184\u001b[0m         \u001b[38;5;66;03m# Update and possibly print the progressbar.\u001b[39;00m\n\u001b[0;32m   1185\u001b[0m         \u001b[38;5;66;03m# Note: does not call self.update(1) for speed optimisation.\u001b[39;00m\n",
      "File \u001b[1;32mc:\\ProgramData\\anaconda3\\Lib\\site-packages\\multiprocess\\pool.py:861\u001b[0m, in \u001b[0;36mIMapIterator.next\u001b[1;34m(self, timeout)\u001b[0m\n\u001b[0;32m    859\u001b[0m     \u001b[38;5;28mself\u001b[39m\u001b[38;5;241m.\u001b[39m_pool \u001b[38;5;241m=\u001b[39m \u001b[38;5;28;01mNone\u001b[39;00m\n\u001b[0;32m    860\u001b[0m     \u001b[38;5;28;01mraise\u001b[39;00m \u001b[38;5;167;01mStopIteration\u001b[39;00m \u001b[38;5;28;01mfrom\u001b[39;00m \u001b[38;5;28;01mNone\u001b[39;00m\n\u001b[1;32m--> 861\u001b[0m \u001b[38;5;28mself\u001b[39m\u001b[38;5;241m.\u001b[39m_cond\u001b[38;5;241m.\u001b[39mwait(timeout)\n\u001b[0;32m    862\u001b[0m \u001b[38;5;28;01mtry\u001b[39;00m:\n\u001b[0;32m    863\u001b[0m     item \u001b[38;5;241m=\u001b[39m \u001b[38;5;28mself\u001b[39m\u001b[38;5;241m.\u001b[39m_items\u001b[38;5;241m.\u001b[39mpopleft()\n",
      "File \u001b[1;32mc:\\ProgramData\\anaconda3\\Lib\\threading.py:320\u001b[0m, in \u001b[0;36mCondition.wait\u001b[1;34m(self, timeout)\u001b[0m\n\u001b[0;32m    318\u001b[0m \u001b[38;5;28;01mtry\u001b[39;00m:    \u001b[38;5;66;03m# restore state no matter what (e.g., KeyboardInterrupt)\u001b[39;00m\n\u001b[0;32m    319\u001b[0m     \u001b[38;5;28;01mif\u001b[39;00m timeout \u001b[38;5;129;01mis\u001b[39;00m \u001b[38;5;28;01mNone\u001b[39;00m:\n\u001b[1;32m--> 320\u001b[0m         waiter\u001b[38;5;241m.\u001b[39macquire()\n\u001b[0;32m    321\u001b[0m         gotit \u001b[38;5;241m=\u001b[39m \u001b[38;5;28;01mTrue\u001b[39;00m\n\u001b[0;32m    322\u001b[0m     \u001b[38;5;28;01melse\u001b[39;00m:\n",
      "\u001b[1;31mKeyboardInterrupt\u001b[0m: "
     ]
    }
   ],
   "source": [
    "step_size = 1000\n",
    "\n",
    "\n",
    "for i in range(30_000, df.shape[0], step_size):\n",
    "    cnt_df = df.iloc[i : i + step_size, :].to_numpy().tolist()\n",
    "    num_tasks = len(cnt_df)\n",
    "    with multiprocess.Pool(36) as pool:\n",
    "        results = list(tqdm(pool.imap(generate_incorrect_case, cnt_df), total=num_tasks))\n",
    "    res = pd.DataFrame(results)\n",
    "    res.columns = df.columns\n",
    "\n",
    "\n",
    "    res.to_csv(f\"bug_insertion_results/{i}_{i + step_size}_bug_insertion_results.csv\", index=False)"
   ]
  },
  {
   "cell_type": "code",
   "execution_count": 1,
   "metadata": {},
   "outputs": [
    {
     "ename": "NameError",
     "evalue": "name 'df' is not defined",
     "output_type": "error",
     "traceback": [
      "\u001b[1;31m---------------------------------------------------------------------------\u001b[0m",
      "\u001b[1;31mNameError\u001b[0m                                 Traceback (most recent call last)",
      "Cell \u001b[1;32mIn[1], line 1\u001b[0m\n\u001b[1;32m----> 1\u001b[0m df\n",
      "\u001b[1;31mNameError\u001b[0m: name 'df' is not defined"
     ]
    }
   ],
   "source": [
    "df"
   ]
  },
  {
   "cell_type": "code",
   "execution_count": 19,
   "metadata": {},
   "outputs": [],
   "source": [
    "from utils import run_pytest"
   ]
  },
  {
   "cell_type": "code",
   "execution_count": 22,
   "metadata": {},
   "outputs": [
    {
     "data": {
      "text/plain": [
       "{'coverage': 100.0,\n",
       " 'stdout': \"============================= test session starts =============================\\nplatform win32 -- Python 3.11.5, pytest-7.4.0, pluggy-1.0.0 -- C:\\\\ProgramData\\\\anaconda3\\\\python.exe\\ncachedir: .pytest_cache\\nrootdir: c:\\\\Master\\\\Disertatie\\\\data\\\\data_generation\\\\tmp\\\\hl7WpBnEnwI82zHY8ugT\\nplugins: cov-4.1.0, anyio-4.2.0\\ncollecting ... collected 1 item\\n\\ntest_source.py::test_get_rgb_from_int FAILED                             [100%]\\n\\n================================== FAILURES ===================================\\n____________________________ test_get_rgb_from_int ____________________________\\n\\n    def test_get_rgb_from_int():\\n        assert get_rgb_from_int(65793) == (1, 1, 1)\\n>       assert get_rgb_from_int('65794') == (2, 2, 2) # change the argument type to reduce coverage\\n\\ntest_source.py:8: \\n_ _ _ _ _ _ _ _ _ _ _ _ _ _ _ _ _ _ _ _ _ _ _ _ _ _ _ _ _ _ _ _ _ _ _ _ _ _ _ _\\n\\nrgb_int = '65794'\\n\\n    def get_rgb_from_int(rgb_int):\\n    \\n    \\n    \\n>       red = rgb_int & 255\\nE       TypeError: unsupported operand type(s) for &: 'str' and 'int'\\n\\nsource.py:5: TypeError\\n\\n---------- coverage: platform win32, python 3.11.5-final-0 -----------\\nName        Stmts   Miss  Cover   Missing\\n-----------------------------------------\\nsource.py       5      0   100%\\n-----------------------------------------\\nTOTAL           5      0   100%\\n\\n=========================== short test summary info ===========================\\nFAILED test_source.py::test_get_rgb_from_int - TypeError: unsupported operand type(s) for &: 'str' and 'int'\\n============================== 1 failed in 0.06s ==============================\\n\",\n",
       " 'stderr': '',\n",
       " 'failed_assertions': 1,\n",
       " 'fails': \"FAILED test_source.py::test_get_rgb_from_int - TypeError: unsupported operand type(s) for &: 'str' and 'int'\"}"
      ]
     },
     "execution_count": 22,
     "metadata": {},
     "output_type": "execute_result"
    }
   ],
   "source": [
    "run_pytest(res.original_code[2], res.initial_test_case[2])"
   ]
  },
  {
   "cell_type": "code",
   "execution_count": null,
   "metadata": {},
   "outputs": [],
   "source": []
  }
 ],
 "metadata": {
  "kernelspec": {
   "display_name": "base",
   "language": "python",
   "name": "python3"
  },
  "language_info": {
   "codemirror_mode": {
    "name": "ipython",
    "version": 3
   },
   "file_extension": ".py",
   "mimetype": "text/x-python",
   "name": "python",
   "nbconvert_exporter": "python",
   "pygments_lexer": "ipython3",
   "version": "3.11.5"
  }
 },
 "nbformat": 4,
 "nbformat_minor": 2
}
